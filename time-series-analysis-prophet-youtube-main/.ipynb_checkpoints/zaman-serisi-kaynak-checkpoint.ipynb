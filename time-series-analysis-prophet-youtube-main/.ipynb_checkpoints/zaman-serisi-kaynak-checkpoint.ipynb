{
 "cells": [
  {
   "cell_type": "code",
   "execution_count": null,
   "id": "3f38c826-895b-4915-b593-190622331758",
   "metadata": {},
   "outputs": [],
   "source": [
    "https://www.youtube.com/watch?v=gX6nZ7IINu8"
   ]
  },
  {
   "cell_type": "markdown",
   "id": "75130305-0dd6-4370-94e1-05bd00ccbd4d",
   "metadata": {},
   "source": [
    "# Time Series Analysis with Prophet\n",
    "\n",
    "Prophet kütüphanesi, tek değişkenli zaman serisi veri kümeleri için tahminler yapmak için tasarlanmış açık kaynaklı bir kütüphanedir. Kullanımı kolaydır ve varsayılan olarak trendler ve mevsimsel yapıya sahip veriler için tahminler yapmak amacıyla model için iyi bir hiperparametre kümesini otomatik olarak bulmak üzere tasarlanmıştır.\n",
    "\n",
    "## Kurulumlar\n",
    "\n",
    "Bu projeyi gerceklestirmek icin asagidaki kutuphanelere ihtiyaciniz vardir:\n",
    "- fbprophet\n",
    "- pandas\n",
    "- matplotlib\n",
    "- plotly (Zorunlu degil fakat prophet bazi durumlarda ihtiyaci olacak)\n",
    "- scikit-learn\n",
    "\n",
    "Gerekli kutuphane kurulumlarini asagidaki kod satirini calistirarak tamamlayabilirsiniz.\n",
    "\n",
    "`pip install fbprophet pandas matplotlib plotly scikit-learn`\n",
    "\n",
    "## Dataset\n",
    "\n",
    "[Monthly Car Sales Dataset](https://raw.githubusercontent.com/jbrownlee/Datasets/master/monthly-car-sales.csv)\n",
    "\n",
    "Ayni zamanda [bu linkten](https://github.com/jbrownlee/Datasets/) onlarca farkli datasete ulasabilirsiniz\n",
    "\n",
    "## Kaynak\n",
    "Machine Learning Mastery Facebook Prophet ile basit zaman serisi egitimi. [Kaynak](https://machinelearningmastery.com/time-series-forecasting-with-prophet-in-python/)"
   ]
  },
  {
   "cell_type": "code",
   "execution_count": null,
   "id": "fd75c1a0-462d-448a-87c4-f69fbd5d71a6",
   "metadata": {},
   "outputs": [],
   "source": [
    "pip install fbprophet"
   ]
  },
  {
   "cell_type": "markdown",
   "id": "d59101c6-9b34-4d9d-90d6-e5508475ddca",
   "metadata": {},
   "source": [
    "# Baslayalim"
   ]
  },
  {
   "cell_type": "markdown",
   "id": "db51733a-72b3-44bc-886b-8f029c61feea",
   "metadata": {},
   "source": [
    "Elimizdeki dataseti uc farkli sekilde inceleyecegiz: \n",
    "- oncelikle modelin egitildi veri seti ile egiterek modelin genel performansina bakacagiz\n",
    "- elimizdeki orneklerle gelecek yil icin bir tahminde bulunacagiz\n",
    "- elimizdeki verinin son bir yilini test icin ayirip bu kismi tahmin edip gercek degerler ile karsilastiracagiz"
   ]
  },
  {
   "cell_type": "markdown",
   "id": "fc8c2f6d-29ac-453f-8b9b-18493306c843",
   "metadata": {},
   "source": [
    "### Verinin Iceri Aktarilmasi\n",
    "\n",
    "Aylık araba satışları veri setini kullanacağız.\n",
    "\n",
    "Hem trend hem de mevsimsellik içeren standart bir tek değişkenli zaman serisi veri setidir. Veri kümesi 108 aylık veriye sahiptir."
   ]
  },
  {
   "cell_type": "code",
   "execution_count": null,
   "id": "cbf82306-2c7e-4d17-b412-e6ea99b88a60",
   "metadata": {},
   "outputs": [],
   "source": [
    "import pandas as pd\n",
    "\n",
    "path = 'https://raw.githubusercontent.com/jbrownlee/Datasets/master/monthly-car-sales.csv'\n",
    "df = pd.read_csv(path, header=0)\n",
    "\n",
    "print(df.shape)\n",
    "print(df.head())"
   ]
  },
  {
   "cell_type": "markdown",
   "id": "d3394641-886e-4b5f-8319-e567b5e2aef7",
   "metadata": {},
   "source": [
    "### Verinin Gorsellestirilmesi\n",
    "\n",
    "Bir zaman serisini çizmek, aslında bir trend, mevsimsel bir döngü, aykırı değerler ve daha fazlası olup olmadığını görmemize yardımcı olur. Bize veriler için bir fikir verir."
   ]
  },
  {
   "cell_type": "code",
   "execution_count": 26,
   "id": "c99d1c4f-9700-4825-8c36-f1c3ee146af1",
   "metadata": {},
   "outputs": [
    {
     "data": {
      "image/png": "[encoded data removed]",
      "text/plain": [
       "<Figure size 432x288 with 1 Axes>"
      ]
     },
     "metadata": {
      "needs_background": "light"
     },
     "output_type": "display_data"
    }
   ],
   "source": [
    "from matplotlib import pyplot\n",
    "\n",
    "df.plot()\n",
    "pyplot.show()"
   ]
  },
  {
   "cell_type": "markdown",
   "id": "e1baf44d-f983-4484-8a60-e7fb0bf7016d",
   "metadata": {},
   "source": [
    "Satışların zaman içindeki eğilimini ve satışlarda aylık mevsimsel bir deseni açıkça görebiliriz. Bunlar, tahmin modelinin dikkate almasını beklediğimiz kalıplardır."
   ]
  },
  {
   "cell_type": "markdown",
   "id": "b011f7c3-71c9-4e70-9d0e-9dab141167e9",
   "metadata": {},
   "source": [
    "### Veri Tipi Donusumu"
   ]
  },
  {
   "cell_type": "markdown",
   "id": "a2c74aa0-5f1e-4613-ab9d-056b7f70190e",
   "metadata": {},
   "source": [
    "DataFrame belirli biçimi olmalıdır. İlk sütun **ds** adına sahip olmalı ve tarih-saatleri içermelidir. İkinci sütun **y** adına sahip olmalı ve gözlemleri içermelidir."
   ]
  },
  {
   "cell_type": "code",
   "execution_count": 29,
   "id": "8b1f8751-caf8-402d-8951-50216f45a586",
   "metadata": {},
   "outputs": [],
   "source": [
    "df.columns = ['ds', 'y']\n",
    "df['ds']= pd.to_datetime(df['ds'])"
   ]
  },
  {
   "cell_type": "markdown",
   "id": "11bcaaec-16f9-446e-b17c-dbdaa3c5c01d",
   "metadata": {},
   "source": [
    "### Modelin Olusturulmasi"
   ]
  },
  {
   "cell_type": "markdown",
   "id": "4d777700-5fe8-4df5-8c0b-07abe7b9031b",
   "metadata": {
    "tags": []
   },
   "source": [
    "Prophet'i tahmin için kullanmak için, önce bir Prophet() nesnesi tanımlanır ve yapılandırılır, ardından fit() işlevi çağrılarak ve veriler geçirilerek veri kümesine sığdırılır.\n",
    "\n",
    "Model hemen hemen her şeyi otomatik olarak çözmek için çalışacaktır."
   ]
  },
  {
   "cell_type": "code",
   "execution_count": 30,
   "id": "0d2ad293-3761-4ade-bcdf-8d8e9acd65e7",
   "metadata": {},
   "outputs": [
    {
     "name": "stderr",
     "output_type": "stream",
     "text": [
      "INFO:fbprophet:Disabling weekly seasonality. Run prophet with weekly_seasonality=True to override this.\n",
      "INFO:fbprophet:Disabling daily seasonality. Run prophet with daily_seasonality=True to override this.\n"
     ]
    },
    {
     "name": "stdout",
     "output_type": "stream",
     "text": [
      "Initial log joint probability = -4.39613\n"
     ]
    },
    {
     "data": {
      "text/plain": [
       "<fbprophet.forecaster.Prophet at 0x12efec8b0>"
      ]
     },
     "execution_count": 30,
     "metadata": {},
     "output_type": "execute_result"
    },
    {
     "name": "stdout",
     "output_type": "stream",
     "text": [
      "    Iter      log prob        ||dx||      ||grad||       alpha      alpha0  # evals  Notes \n",
      "      99       270.121    0.00256453       74.1999           1           1      119   \n",
      "    Iter      log prob        ||dx||      ||grad||       alpha      alpha0  # evals  Notes \n",
      "     179       270.278   0.000372902       84.8161   3.917e-06       0.001      261  LS failed, Hessian reset \n",
      "     199       270.292   3.23808e-06       74.4814      0.5766      0.5766      288   \n",
      "    Iter      log prob        ||dx||      ||grad||       alpha      alpha0  # evals  Notes \n",
      "     253       270.295   1.14294e-08       68.2656       0.247           1      361   \n",
      "Optimization terminated normally: \n",
      "  Convergence detected: relative gradient magnitude is below tolerance\n"
     ]
    }
   ],
   "source": [
    "from fbprophet import Prophet\n",
    "\n",
    "model = Prophet()\n",
    "model.fit(df)"
   ]
  },
  {
   "cell_type": "markdown",
   "id": "3f33c27f-9bce-4cd9-8b16-34da89d1338a",
   "metadata": {},
   "source": [
    "## Ornek Ici Tahmin Yapmak\n",
    "\n",
    "Geçmiş veriler üzerinden bir tahmin yapmak faydalı olabilir.\n",
    "\n",
    "Yani, modeli eğitmek için girdi olarak kullanılan veriler üzerinde bir tahmin yapabiliriz. İdeal olarak, model verileri daha önce görmüştür ve mükemmel bir tahminde bulunur.\n",
    "\n",
    "Buna örnek içi (eğitim kümesi örneğinde) tahmin yapmak denir ve sonuçların gözden geçirilmesi modelin ne kadar iyi olduğuna dair fikir verebilir. Yani eğitim verilerini ne kadar iyi öğrendiğidir.\n",
    "\n",
    "predict() işlevi çağrılarak ve tahmin edilecek tüm aralıklar için 'ds' adlı bir sütun ve tarih-saat içeren satırlar içeren bir DataFrame geçirilerek bir tahmin yapılır.\n",
    "\n",
    "Bu \"tahmin\" DataFrame'i yaratmanın birçok yolu vardır. Bu durumda, bir yıllık tarihler arasında döngü yapacağız, ör. veri kümesindeki son 12 ay ve her ay için bir dize oluşturun. Daha sonra tarih listesini bir DataFrame'e dönüştüreceğiz ve dize değerlerini tarih-saat nesnelerine dönüştüreceğiz."
   ]
  },
  {
   "cell_type": "code",
   "execution_count": 31,
   "id": "9d73f79b-e1ed-46c1-bbc3-cc2036591481",
   "metadata": {},
   "outputs": [],
   "source": [
    "future = list()\n",
    "\n",
    "for i in range(1, 13):\n",
    "    date = '1968-%02d' % i\n",
    "    future.append([date])\n",
    "    \n",
    "future = pd.DataFrame(future)\n",
    "future.columns = ['ds']\n",
    "future['ds']= pd.to_datetime(future['ds'])\n",
    "forecast = model.predict(future)"
   ]
  },
  {
   "cell_type": "markdown",
   "id": "27f4b942-2c67-446f-b1c2-d3f8192fbfa2",
   "metadata": {},
   "source": [
    "predict() işlevinin sonucu, birçok sütun içeren bir DataFrame'dir. \n",
    "\n",
    "En önemli sütunlar:\n",
    "- tahmin tarih saat **('ds')** \n",
    "- tahmin değeri **('yhat')** \n",
    "- tahmin edilen değerin üzerinde alt ve üst sınırları **('yhat_lower' ve 'yhat_upper')**\n",
    "\n",
    "Örneğin, ilk birkaç tahmini şu şekilde yazdırabiliriz:"
   ]
  },
  {
   "cell_type": "code",
   "execution_count": 36,
   "id": "474decdf-4cbb-4e7c-9253-d8c9b7adcc4e",
   "metadata": {},
   "outputs": [
    {
     "name": "stdout",
     "output_type": "stream",
     "text": [
      "          ds          yhat    yhat_lower    yhat_upper\n",
      "0 1968-01-01  14363.189924  12866.572807  16066.075539\n",
      "1 1968-02-01  14935.656747  13431.059840  16386.850339\n",
      "2 1968-03-01  20862.975124  19299.016488  22494.474514\n",
      "3 1968-04-01  22895.095989  21307.343465  24417.579546\n",
      "4 1968-05-01  24206.978071  22644.733527  25699.799592\n"
     ]
    }
   ],
   "source": [
    "print(forecast[['ds', 'yhat', 'yhat_lower', 'yhat_upper']].head())"
   ]
  },
  {
   "cell_type": "markdown",
   "id": "72758cdc-d545-4f8b-938f-3d56b998affe",
   "metadata": {},
   "source": [
    "### Tahminlerin Cizdirilmesi\n",
    "\n",
    "Bu, modelde plot() işlevi çağrılarak ve bir sonuç DataFrame'e aktarilarak elde edilebilir. \n",
    "\n",
    "Asagidaki kod eğitim veri kümesinin bir grafiğini oluşturacak ve tahmin, tahmin tarihleri için üst ve alt sınırlarli gosterecektir."
   ]
  },
  {
   "cell_type": "code",
   "execution_count": 34,
   "id": "a1058885-8803-457d-92d1-711494602adf",
   "metadata": {},
   "outputs": [
    {
     "data": {
      "image/png": "[encoded data removed]",
      "text/plain": [
       "<Figure size 720x432 with 1 Axes>"
      ]
     },
     "metadata": {},
     "output_type": "display_data"
    }
   ],
   "source": [
    "model.plot(forecast)\n",
    "pyplot.show()"
   ]
  },
  {
   "cell_type": "markdown",
   "id": "c39db8b1-6814-4423-aa1b-7b9066b3b14a",
   "metadata": {},
   "source": [
    "## Ornek Disi Tahmin Yapmak\n",
    "\n",
    "Pratikte, eğitim verilerinin ötesinde bir tahmin yapmak için bir tahmin modeli isteriz.\n",
    "\n",
    "Buna örnek dışı tahmin denir.\n",
    "\n",
    "Bunu bir örnek içi tahminle aynı şekilde başarabilir ve basitçe farklı bir tahmin dönemi belirleyebiliriz.\n",
    "\n",
    "Bu durumda, 1969-01'den başlayarak eğitim veri kümesinin sonunun ötesinde bir dönem tahmin etmeyi deneyelim."
   ]
  },
  {
   "cell_type": "code",
   "execution_count": 20,
   "id": "04a08439-3143-476d-8063-81e11e8d694b",
   "metadata": {},
   "outputs": [
    {
     "name": "stdout",
     "output_type": "stream",
     "text": [
      "          ds          yhat    yhat_lower    yhat_upper\n",
      "0 1969-01-01  15408.057135  13844.255338  16886.113177\n",
      "1 1969-02-01  16170.491373  14614.164512  17820.742725\n",
      "2 1969-03-01  21382.644673  19787.897441  22918.753724\n",
      "3 1969-04-01  23510.586856  22036.895785  25044.771042\n",
      "4 1969-05-01  25023.241246  23451.684602  26543.999746\n"
     ]
    },
    {
     "data": {
      "image/png": "[encoded data removed]",
      "text/plain": [
       "<Figure size 720x432 with 1 Axes>"
      ]
     },
     "metadata": {},
     "output_type": "display_data"
    }
   ],
   "source": [
    "future = list()\n",
    "\n",
    "for i in range(1, 13):\n",
    "    date = '1969-%02d' % i\n",
    "    future.append([date])\n",
    "    \n",
    "future = pd.DataFrame(future)\n",
    "future.columns = ['ds']\n",
    "future['ds']= pd.to_datetime(future['ds'])\n",
    "\n",
    "forecast = model.predict(future)\n",
    "print(forecast[['ds', 'yhat', 'yhat_lower', 'yhat_upper']].head())\n",
    "\n",
    "model.plot(forecast)\n",
    "pyplot.show()"
   ]
  },
  {
   "cell_type": "markdown",
   "id": "13854a7e-6952-4f62-8ef1-72a4902889ab",
   "metadata": {},
   "source": [
    "## Modeli Manuel Degerlendirmek\n",
    "\n",
    "Bir tahmin modelinin performansının objektif bir tahminini geliştirmek çok önemlidir.\n",
    "\n",
    "Bu, son 12 ay gibi bazı verileri modelden uzak tutarak başarılabilir. Ardından, modelin verilerin ilk kısmına uydurulması, tutulan paket kısmı üzerinde tahminler yapmak için kullanılması ve tahminlerdeki ortalama mutlak hata gibi bir hata ölçüsünün hesaplanması. Örneğin, simüle edilmiş bir örneklem dışı tahmin.\n",
    "\n",
    "Skor, örneklem dışı bir tahmin yaparken modelin ortalama olarak ne kadar iyi performans göstermesini bekleyebileceğimize dair bir tahmin verir.\n",
    "\n",
    "Bunu , son 12 ayı kaldırılmış eğitim için yeni bir DataFrame oluşturarak örnek verilerle yapabiliriz ."
   ]
  },
  {
   "cell_type": "code",
   "execution_count": 50,
   "id": "df6aadc4-c09f-47ff-8178-9ab25ee1003a",
   "metadata": {},
   "outputs": [],
   "source": [
    "import pandas as pd\n",
    "from fbprophet import Prophet\n",
    "from sklearn.metrics import mean_absolute_error\n",
    "from matplotlib import pyplot\n",
    "\n",
    "path = 'https://raw.githubusercontent.com/jbrownlee/Datasets/master/monthly-car-sales.csv'\n",
    "df = pd.read_csv(path, header=0)\n",
    "\n",
    "df.columns = ['ds', 'y']\n",
    "df['ds']= pd.to_datetime(df['ds'])"
   ]
  },
  {
   "cell_type": "code",
   "execution_count": 51,
   "id": "0cd4e31f-bbb7-42f2-8d7f-ac8316bae0e7",
   "metadata": {},
   "outputs": [
    {
     "name": "stdout",
     "output_type": "stream",
     "text": [
      "           ds      y\n",
      "91 1967-08-01  13434\n",
      "92 1967-09-01  13598\n",
      "93 1967-10-01  17187\n",
      "94 1967-11-01  16119\n",
      "95 1967-12-01  13713\n"
     ]
    }
   ],
   "source": [
    "train = df.drop(df.index[-12:])\n",
    "print(train.tail())"
   ]
  },
  {
   "cell_type": "code",
   "execution_count": 64,
   "id": "0b3c2b8a-5c9a-4265-8a0b-fa666fcb2b4c",
   "metadata": {
    "collapsed": true,
    "jupyter": {
     "outputs_hidden": true
    },
    "tags": []
   },
   "outputs": [
    {
     "name": "stderr",
     "output_type": "stream",
     "text": [
      "INFO:fbprophet:Disabling weekly seasonality. Run prophet with weekly_seasonality=True to override this.\n",
      "INFO:fbprophet:Disabling daily seasonality. Run prophet with daily_seasonality=True to override this.\n"
     ]
    },
    {
     "name": "stdout",
     "output_type": "stream",
     "text": [
      "\n",
      "Initial log joint probability = -104.85\n",
      "\n",
      " Maalesef verbose false yapamiyoruz :/ \n",
      "\n",
      "Iteration  1. Log joint probability =    72.7915. Improved by 177.641.\n",
      "Iteration  2. Log joint probability =     141.49. Improved by 68.6982.\n",
      "Iteration  3. Log joint probability =    148.523. Improved by 7.03351.\n",
      "Iteration  4. Log joint probability =    148.546. Improved by 0.0223531.\n",
      "Iteration  5. Log joint probability =    148.554. Improved by 0.00880483.\n",
      "Iteration  6. Log joint probability =    148.576. Improved by 0.0214036.\n",
      "Iteration  7. Log joint probability =    148.585. Improved by 0.00973269.\n",
      "Iteration  8. Log joint probability =    148.606. Improved by 0.0204538.\n",
      "Iteration  9. Log joint probability =    148.617. Improved by 0.0106609.\n",
      "Iteration 10. Log joint probability =    148.636. Improved by 0.0195037.\n",
      "Iteration 11. Log joint probability =    148.648. Improved by 0.0115894.\n",
      "Iteration 12. Log joint probability =    148.666. Improved by 0.0185532.\n",
      "Iteration 13. Log joint probability =    148.679. Improved by 0.0125183.\n",
      "Iteration 14. Log joint probability =    148.696. Improved by 0.0176024.\n",
      "Iteration 15. Log joint probability =     148.71. Improved by 0.0134475.\n",
      "Iteration 16. Log joint probability =    148.726. Improved by 0.0166513.\n",
      "Iteration 17. Log joint probability =    148.741. Improved by 0.0143771.\n",
      "Iteration 18. Log joint probability =    148.757. Improved by 0.0156999.\n",
      "Iteration 19. Log joint probability =    148.772. Improved by 0.015307.\n",
      "Iteration 20. Log joint probability =    148.787. Improved by 0.0147481.\n",
      "Iteration 21. Log joint probability =    148.803. Improved by 0.0162373.\n",
      "Iteration 22. Log joint probability =    148.817. Improved by 0.0137961.\n",
      "Iteration 23. Log joint probability =    148.834. Improved by 0.0171679.\n",
      "Iteration 24. Log joint probability =    148.847. Improved by 0.0128437.\n",
      "Iteration 25. Log joint probability =    148.865. Improved by 0.0180988.\n",
      "Iteration 26. Log joint probability =    148.877. Improved by 0.0118909.\n",
      "Iteration 27. Log joint probability =    148.896. Improved by 0.0190301.\n",
      "Iteration 28. Log joint probability =    148.907. Improved by 0.0109379.\n",
      "Iteration 29. Log joint probability =    148.927. Improved by 0.0199618.\n",
      "Iteration 30. Log joint probability =    148.937. Improved by 0.00998453.\n",
      "Iteration 31. Log joint probability =    148.957. Improved by 0.0208938.\n",
      "Iteration 32. Log joint probability =    148.966. Improved by 0.00903083.\n",
      "Iteration 33. Log joint probability =    148.988. Improved by 0.0218261.\n",
      "Iteration 34. Log joint probability =    148.996. Improved by 0.00807681.\n",
      "Iteration 35. Log joint probability =    149.019. Improved by 0.0227589.\n",
      "Iteration 36. Log joint probability =    149.026. Improved by 0.00712245.\n",
      "Iteration 37. Log joint probability =     149.05. Improved by 0.0236919.\n",
      "Iteration 38. Log joint probability =    149.056. Improved by 0.00616777.\n",
      "Iteration 39. Log joint probability =    149.081. Improved by 0.0246253.\n",
      "Iteration 40. Log joint probability =    149.086. Improved by 0.00521276.\n",
      "Iteration 41. Log joint probability =    149.112. Improved by 0.0255591.\n",
      "Iteration 42. Log joint probability =    149.116. Improved by 0.00425741.\n",
      "Iteration 43. Log joint probability =    149.142. Improved by 0.0264932.\n",
      "Iteration 44. Log joint probability =    149.146. Improved by 0.00330174.\n",
      "Iteration 45. Log joint probability =    149.173. Improved by 0.0274277.\n",
      "Iteration 46. Log joint probability =    149.175. Improved by 0.00234573.\n",
      "Iteration 47. Log joint probability =    149.204. Improved by 0.0283625.\n",
      "Iteration 48. Log joint probability =    149.205. Improved by 0.00138939.\n",
      "Iteration 49. Log joint probability =    149.234. Improved by 0.0292978.\n",
      "Iteration 50. Log joint probability =    149.235. Improved by 0.000432713.\n",
      "Iteration 51. Log joint probability =    149.265. Improved by 0.0302333.\n",
      "Iteration 52. Log joint probability =    149.314. Improved by 0.0491703.\n",
      "Iteration 53. Log joint probability =    182.761. Improved by 33.4463.\n",
      "Iteration 54. Log joint probability =     189.18. Improved by 6.41958.\n",
      "Iteration 55. Log joint probability =    189.265. Improved by 0.0845877.\n",
      "Iteration 56. Log joint probability =     189.29. Improved by 0.0254509.\n",
      "Iteration 57. Log joint probability =    189.383. Improved by 0.0928119.\n",
      "Iteration 58. Log joint probability =    189.407. Improved by 0.0237773.\n",
      "Iteration 59. Log joint probability =     189.48. Improved by 0.0737264.\n",
      "Iteration 60. Log joint probability =    189.609. Improved by 0.128704.\n",
      "Iteration 61. Log joint probability =    189.658. Improved by 0.0487217.\n",
      "Iteration 62. Log joint probability =    189.845. Improved by 0.187362.\n",
      "Iteration 63. Log joint probability =    190.346. Improved by 0.501064.\n",
      "Iteration 64. Log joint probability =    199.123. Improved by 8.77684.\n",
      "Iteration 65. Log joint probability =    199.352. Improved by 0.229142.\n",
      "Iteration 66. Log joint probability =     202.52. Improved by 3.16772.\n",
      "Iteration 67. Log joint probability =    204.436. Improved by 1.91611.\n",
      "Iteration 68. Log joint probability =    207.108. Improved by 2.67166.\n",
      "Iteration 69. Log joint probability =    207.484. Improved by 0.376049.\n",
      "Iteration 70. Log joint probability =     212.51. Improved by 5.02648.\n",
      "Iteration 71. Log joint probability =     216.04. Improved by 3.52948.\n",
      "Iteration 72. Log joint probability =    216.893. Improved by 0.853308.\n",
      "Iteration 73. Log joint probability =    219.055. Improved by 2.16158.\n",
      "Iteration 74. Log joint probability =    219.719. Improved by 0.664594.\n",
      "Iteration 75. Log joint probability =     220.82. Improved by 1.10064.\n",
      "Iteration 76. Log joint probability =    221.052. Improved by 0.231763.\n",
      "Iteration 77. Log joint probability =    222.067. Improved by 1.01557.\n",
      "Iteration 78. Log joint probability =    222.516. Improved by 0.449119.\n",
      "Iteration 79. Log joint probability =    223.531. Improved by 1.01494.\n",
      "Iteration 80. Log joint probability =     223.57. Improved by 0.0390872.\n",
      "Iteration 81. Log joint probability =    223.716. Improved by 0.145833.\n",
      "Iteration 82. Log joint probability =    223.735. Improved by 0.0188064.\n",
      "Iteration 83. Log joint probability =    225.547. Improved by 1.81196.\n",
      "Iteration 84. Log joint probability =    225.818. Improved by 0.271325.\n",
      "Iteration 85. Log joint probability =    226.111. Improved by 0.292685.\n",
      "Iteration 86. Log joint probability =    226.373. Improved by 0.262285.\n",
      "Iteration 87. Log joint probability =    227.129. Improved by 0.755468.\n",
      "Iteration 88. Log joint probability =    227.969. Improved by 0.840713.\n",
      "Iteration 89. Log joint probability =     228.15. Improved by 0.180627.\n",
      "Iteration 90. Log joint probability =    228.152. Improved by 0.00197275.\n",
      "Iteration 91. Log joint probability =    228.928. Improved by 0.775614.\n",
      "Iteration 92. Log joint probability =    229.045. Improved by 0.117062.\n",
      "Iteration 93. Log joint probability =    230.208. Improved by 1.16325.\n",
      "Iteration 94. Log joint probability =     230.25. Improved by 0.0424113.\n",
      "Iteration 95. Log joint probability =     232.93. Improved by 2.67962.\n",
      "Iteration 96. Log joint probability =    233.449. Improved by 0.518669.\n",
      "Iteration 97. Log joint probability =    234.032. Improved by 0.582873.\n",
      "Iteration 98. Log joint probability =    234.089. Improved by 0.0577372.\n",
      "Iteration 99. Log joint probability =    234.117. Improved by 0.0274991.\n",
      "Iteration 100. Log joint probability =    234.625. Improved by 0.507974.\n",
      "Iteration 101. Log joint probability =    234.818. Improved by 0.193493.\n",
      "Iteration 102. Log joint probability =     234.86. Improved by 0.0414048.\n",
      "Iteration 103. Log joint probability =    234.874. Improved by 0.0147599.\n",
      "Iteration 104. Log joint probability =    234.891. Improved by 0.0163406.\n",
      "Iteration 105. Log joint probability =    234.962. Improved by 0.0714811.\n",
      "Iteration 106. Log joint probability =    234.967. Improved by 0.00502643.\n",
      "Iteration 107. Log joint probability =    234.981. Improved by 0.0136709.\n",
      "Iteration 108. Log joint probability =     234.99. Improved by 0.00891703.\n",
      "Iteration 109. Log joint probability =    234.993. Improved by 0.00302646.\n",
      "Iteration 110. Log joint probability =    234.999. Improved by 0.0059433.\n",
      "Iteration 111. Log joint probability =    235.002. Improved by 0.0028126.\n",
      "Iteration 112. Log joint probability =    235.003. Improved by 0.00117052.\n",
      "Iteration 113. Log joint probability =    235.003. Improved by 0.000413673.\n",
      "Iteration 114. Log joint probability =    235.004. Improved by 0.000287034.\n",
      "Iteration 115. Log joint probability =    235.004. Improved by 0.000618186.\n",
      "Iteration 116. Log joint probability =    235.004. Improved by 0.000135187.\n",
      "Iteration 117. Log joint probability =    235.004. Improved by 0.000144715.\n",
      "Iteration 118. Log joint probability =    235.005. Improved by 0.00040096.\n",
      "Iteration 119. Log joint probability =    235.005. Improved by 0.000384067.\n",
      "Iteration 120. Log joint probability =    235.006. Improved by 0.000561814.\n",
      "Iteration 121. Log joint probability =    235.006. Improved by 0.000256132.\n",
      "Iteration 122. Log joint probability =    235.006. Improved by 6.65545e-05.\n",
      "Iteration 123. Log joint probability =    235.006. Improved by 0.000217435.\n",
      "Iteration 124. Log joint probability =    235.006. Improved by 6.68443e-05.\n",
      "Iteration 125. Log joint probability =    235.006. Improved by 2.7557e-05.\n",
      "Iteration 126. Log joint probability =    235.006. Improved by 6.17328e-06.\n",
      "Iteration 127. Log joint probability =    235.006. Improved by 1.9125e-05.\n",
      "Iteration 128. Log joint probability =    235.006. Improved by 7.11191e-06.\n",
      "Iteration 129. Log joint probability =    235.006. Improved by 1.15355e-05.\n",
      "Iteration 130. Log joint probability =    235.006. Improved by 2.60495e-06.\n",
      "Iteration 131. Log joint probability =    235.006. Improved by 1.62613e-05.\n",
      "Iteration 132. Log joint probability =    235.006. Improved by 9.02821e-06.\n",
      "Iteration 133. Log joint probability =    235.007. Improved by 2.15387e-05.\n",
      "Iteration 134. Log joint probability =    235.007. Improved by 2.94664e-05.\n",
      "Iteration 135. Log joint probability =    235.007. Improved by 2.7549e-05.\n",
      "Iteration 136. Log joint probability =    235.007. Improved by 2.0403e-05.\n",
      "Iteration 137. Log joint probability =    235.007. Improved by 6.38337e-06.\n",
      "Iteration 138. Log joint probability =    235.007. Improved by 4.12813e-06.\n",
      "Iteration 139. Log joint probability =    235.007. Improved by 1.92911e-06.\n",
      "Iteration 140. Log joint probability =    235.007. Improved by 9.67081e-07.\n",
      "Iteration 141. Log joint probability =    235.007. Improved by 3.16839e-06.\n",
      "Iteration 142. Log joint probability =    235.007. Improved by 5.73937e-06.\n",
      "Iteration 143. Log joint probability =    235.007. Improved by 4.47156e-07.\n",
      "Iteration 144. Log joint probability =    235.007. Improved by 8.02084e-07.\n",
      "Iteration 145. Log joint probability =    235.007. Improved by 2.67805e-06.\n",
      "Iteration 146. Log joint probability =    235.007. Improved by 3.40552e-07.\n",
      "Iteration 147. Log joint probability =    235.007. Improved by 4.81942e-07.\n",
      "Iteration 148. Log joint probability =    235.007. Improved by 7.1814e-07.\n",
      "Iteration 149. Log joint probability =    235.007. Improved by 1.25542e-06.\n",
      "Iteration 150. Log joint probability =    235.007. Improved by 2.97181e-07.\n",
      "Iteration 151. Log joint probability =    235.007. Improved by 7.09156e-07.\n",
      "Iteration 152. Log joint probability =    235.007. Improved by 1.40972e-07.\n",
      "Iteration 153. Log joint probability =    235.007. Improved by 1.41583e-07.\n",
      "Iteration 154. Log joint probability =    235.007. Improved by 2.69875e-07.\n",
      "Iteration 155. Log joint probability =    235.007. Improved by 9.78086e-08.\n",
      "Iteration 156. Log joint probability =    235.007. Improved by 7.55174e-08.\n",
      "Iteration 157. Log joint probability =    235.007. Improved by 1.98513e-07.\n",
      "Iteration 158. Log joint probability =    235.007. Improved by 9.10102e-08.\n",
      "Iteration 159. Log joint probability =    235.007. Improved by 3.19871e-08.\n",
      "Iteration 160. Log joint probability =    235.007. Improved by 2.3239e-08.\n",
      "Iteration 161. Log joint probability =    235.007. Improved by 1.89381e-08.\n",
      "Iteration 162. Log joint probability =    235.007. Improved by 8.36852e-09.\n"
     ]
    }
   ],
   "source": [
    "model = Prophet()\n",
    "model.fit(train)\n",
    "\n",
    "future = list()\n",
    "for i in range(1, 13):\n",
    "    date = '1968-%02d' % i\n",
    "    future.append([date])\n",
    "    \n",
    "future = pd.DataFrame(future)\n",
    "future.columns = ['ds']\n",
    "future['ds'] = pd.to_datetime(future['ds'])\n",
    "\n",
    "print('\\n Maalesef verbose false yapamiyoruz :/ \\n')\n",
    "forecast = model.predict(future)"
   ]
  },
  {
   "cell_type": "code",
   "execution_count": 53,
   "id": "b0f57ef1-dd63-4426-9e14-9b77b26784c7",
   "metadata": {},
   "outputs": [],
   "source": [
    "y_true = df['y'][-12:].values\n",
    "y_pred = forecast['yhat'].values"
   ]
  },
  {
   "cell_type": "code",
   "execution_count": 46,
   "id": "ae0b5a04-dc70-48a4-809f-b6c9a9b1abf9",
   "metadata": {},
   "outputs": [
    {
     "name": "stdout",
     "output_type": "stream",
     "text": [
      "MAE: 1336.814\n"
     ]
    }
   ],
   "source": [
    "mae = mean_absolute_error(y_true, y_pred)\n",
    "print('MAE: %.3f' % mae)\n"
   ]
  },
  {
   "cell_type": "code",
   "execution_count": 47,
   "id": "def9db99-bf5a-4165-ae4c-28e239311f05",
   "metadata": {},
   "outputs": [
    {
     "data": {
      "image/png": "[encoded data removed]",
      "text/plain": [
       "<Figure size 432x288 with 1 Axes>"
      ]
     },
     "metadata": {
      "needs_background": "light"
     },
     "output_type": "display_data"
    }
   ],
   "source": [
    "pyplot.plot(y_true, label='Actual')\n",
    "pyplot.plot(y_pred, label='Predicted')\n",
    "pyplot.legend()\n",
    "pyplot.show()"
   ]
  },
  {
   "cell_type": "markdown",
   "id": "c14dd21e-46c2-403d-b875-8f517c2d2e24",
   "metadata": {},
   "source": [
    "## Harika!"
   ]
  }
 ],
 "metadata": {
  "kernelspec": {
   "display_name": "Python 3 (ipykernel)",
   "language": "python",
   "name": "python3"
  },
  "language_info": {
   "codemirror_mode": {
    "name": "ipython",
    "version": 3
   },
   "file_extension": ".py",
   "mimetype": "text/x-python",
   "name": "python",
   "nbconvert_exporter": "python",
   "pygments_lexer": "ipython3",
   "version": "3.9.13"
  }
 },
 "nbformat": 4,
 "nbformat_minor": 5
}
